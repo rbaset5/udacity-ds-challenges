{
 "cells": [
  {
   "cell_type": "markdown",
   "metadata": {},
   "source": [
    "# Finding Outliers\n",
    "\n",
    "In this exercise, you'll practice looking for outliers. You'll look at the World Bank GDP and population data sets. First, you'll look at the data from a one-dimensional perspective and then a two-dimensional perspective.\n",
    "\n",
    "Run the code below to import the data sets and prepare the data for analysis. The code:\n",
    "* reads in the data sets\n",
    "* reshapes the datasets to a long format\n",
    "* uses back fill and forward fill to fill in missing values\n",
    "* merges the gdp and population data together\n",
    "* shows the first 10 values in the data set"
   ]
  },
  {
   "cell_type": "code",
   "execution_count": 1,
   "metadata": {},
   "outputs": [
    {
     "output_type": "execute_result",
     "data": {
      "text/plain": [
       "               Country Name  year           gdp   population\n",
       "14784                 Aruba  2016  2.584464e+09     104822.0\n",
       "14785           Afghanistan  2016  1.946902e+10   34656032.0\n",
       "14786                Angola  2016  9.533720e+10   28813463.0\n",
       "14787               Albania  2016  1.188368e+10    2876101.0\n",
       "14788               Andorra  2016  2.877312e+09      77281.0\n",
       "14789            Arab World  2016  2.500164e+12  406452690.0\n",
       "14790  United Arab Emirates  2016  3.570451e+11    9269612.0\n",
       "14791             Argentina  2016  5.548609e+11   43847430.0\n",
       "14792               Armenia  2016  1.054614e+10    2924816.0\n",
       "14793        American Samoa  2016  6.580000e+08      55599.0"
      ],
      "text/html": "<div>\n<style scoped>\n    .dataframe tbody tr th:only-of-type {\n        vertical-align: middle;\n    }\n\n    .dataframe tbody tr th {\n        vertical-align: top;\n    }\n\n    .dataframe thead th {\n        text-align: right;\n    }\n</style>\n<table border=\"1\" class=\"dataframe\">\n  <thead>\n    <tr style=\"text-align: right;\">\n      <th></th>\n      <th>Country Name</th>\n      <th>year</th>\n      <th>gdp</th>\n      <th>population</th>\n    </tr>\n  </thead>\n  <tbody>\n    <tr>\n      <th>14784</th>\n      <td>Aruba</td>\n      <td>2016</td>\n      <td>2.584464e+09</td>\n      <td>104822.0</td>\n    </tr>\n    <tr>\n      <th>14785</th>\n      <td>Afghanistan</td>\n      <td>2016</td>\n      <td>1.946902e+10</td>\n      <td>34656032.0</td>\n    </tr>\n    <tr>\n      <th>14786</th>\n      <td>Angola</td>\n      <td>2016</td>\n      <td>9.533720e+10</td>\n      <td>28813463.0</td>\n    </tr>\n    <tr>\n      <th>14787</th>\n      <td>Albania</td>\n      <td>2016</td>\n      <td>1.188368e+10</td>\n      <td>2876101.0</td>\n    </tr>\n    <tr>\n      <th>14788</th>\n      <td>Andorra</td>\n      <td>2016</td>\n      <td>2.877312e+09</td>\n      <td>77281.0</td>\n    </tr>\n    <tr>\n      <th>14789</th>\n      <td>Arab World</td>\n      <td>2016</td>\n      <td>2.500164e+12</td>\n      <td>406452690.0</td>\n    </tr>\n    <tr>\n      <th>14790</th>\n      <td>United Arab Emirates</td>\n      <td>2016</td>\n      <td>3.570451e+11</td>\n      <td>9269612.0</td>\n    </tr>\n    <tr>\n      <th>14791</th>\n      <td>Argentina</td>\n      <td>2016</td>\n      <td>5.548609e+11</td>\n      <td>43847430.0</td>\n    </tr>\n    <tr>\n      <th>14792</th>\n      <td>Armenia</td>\n      <td>2016</td>\n      <td>1.054614e+10</td>\n      <td>2924816.0</td>\n    </tr>\n    <tr>\n      <th>14793</th>\n      <td>American Samoa</td>\n      <td>2016</td>\n      <td>6.580000e+08</td>\n      <td>55599.0</td>\n    </tr>\n  </tbody>\n</table>\n</div>"
     },
     "metadata": {},
     "execution_count": 1
    }
   ],
   "source": [
    "import pandas as pd\n",
    "import numpy as np\n",
    "\n",
    "# read in the projects data set and do basic wrangling \n",
    "gdp = pd.read_csv('../data/gdp_data.csv', skiprows=4)\n",
    "gdp.drop(['Unnamed: 62', 'Country Code', 'Indicator Name', 'Indicator Code'], inplace=True, axis=1)\n",
    "population = pd.read_csv('../data/population_data.csv', skiprows=4)\n",
    "population.drop(['Unnamed: 62', 'Country Code', 'Indicator Name', 'Indicator Code'], inplace=True, axis=1)\n",
    "\n",
    "\n",
    "# Reshape the data sets so that they are in long format\n",
    "gdp_melt = gdp.melt(id_vars=['Country Name'], \n",
    "                    var_name='year', \n",
    "                    value_name='gdp')\n",
    "\n",
    "# Use back fill and forward fill to fill in missing gdp values\n",
    "gdp_melt['gdp'] = gdp_melt.sort_values('year').groupby('Country Name')['gdp'].fillna(method='ffill').fillna(method='bfill')\n",
    "\n",
    "population_melt = population.melt(id_vars=['Country Name'], \n",
    "                                  var_name='year', \n",
    "                                  value_name='population')\n",
    "\n",
    "# Use back fill and forward fill to fill in missing population values\n",
    "population_melt['population'] = population_melt.sort_values('year').groupby('Country Name')['population'].fillna(method='ffill').fillna(method='bfill')\n",
    "\n",
    "# merge the population and gdp data together into one data frame\n",
    "df_country = gdp_melt.merge(population_melt, on=('Country Name', 'year'))\n",
    "\n",
    "# filter data for the year 2016\n",
    "df_2016 = df_country[df_country['year'] == '2016']\n",
    "\n",
    "# see what the data looks like\n",
    "df_2016.head(10)"
   ]
  },
  {
   "cell_type": "markdown",
   "metadata": {},
   "source": [
    "# Exercise\n",
    "\n",
    "Explore the data set to identify outliers using the Tukey rule. Follow the TODOs."
   ]
  },
  {
   "cell_type": "code",
   "execution_count": 3,
   "metadata": {},
   "outputs": [
    {
     "output_type": "execute_result",
     "data": {
      "text/plain": [
       "<matplotlib.axes._subplots.AxesSubplot at 0x7f8b590ea7f0>"
      ]
     },
     "metadata": {},
     "execution_count": 3
    },
    {
     "output_type": "display_data",
     "data": {
      "text/plain": "<Figure size 432x288 with 1 Axes>",
      "image/svg+xml": "<?xml version=\"1.0\" encoding=\"utf-8\" standalone=\"no\"?>\n<!DOCTYPE svg PUBLIC \"-//W3C//DTD SVG 1.1//EN\"\n  \"http://www.w3.org/Graphics/SVG/1.1/DTD/svg11.dtd\">\n<!-- Created with matplotlib (https://matplotlib.org/) -->\n<svg height=\"259.116562pt\" version=\"1.1\" viewBox=\"0 0 362.5625 259.116562\" width=\"362.5625pt\" xmlns=\"http://www.w3.org/2000/svg\" xmlns:xlink=\"http://www.w3.org/1999/xlink\">\n <defs>\n  <style type=\"text/css\">\n*{stroke-linecap:butt;stroke-linejoin:round;}\n  </style>\n </defs>\n <g id=\"figure_1\">\n  <g id=\"patch_1\">\n   <path d=\"M 0 259.116562 \nL 362.5625 259.116562 \nL 362.5625 0 \nL 0 0 \nz\n\" style=\"fill:none;\"/>\n  </g>\n  <g id=\"axes_1\">\n   <g id=\"patch_2\">\n    <path d=\"M 20.5625 235.238437 \nL 355.3625 235.238437 \nL 355.3625 17.798437 \nL 20.5625 17.798437 \nz\n\" style=\"fill:#ffffff;\"/>\n   </g>\n   <g id=\"matplotlib.axis_1\">\n    <g id=\"xtick_1\">\n     <g id=\"line2d_1\">\n      <defs>\n       <path d=\"M 0 0 \nL 0 3.5 \n\" id=\"m5123f527de\" style=\"stroke:#000000;stroke-width:0.8;\"/>\n      </defs>\n      <g>\n       <use style=\"stroke:#000000;stroke-width:0.8;\" x=\"187.9625\" xlink:href=\"#m5123f527de\" y=\"235.238437\"/>\n      </g>\n     </g>\n     <g id=\"text_1\">\n      <!-- gdp -->\n      <defs>\n       <path d=\"M 45.40625 27.984375 \nQ 45.40625 37.75 41.375 43.109375 \nQ 37.359375 48.484375 30.078125 48.484375 \nQ 22.859375 48.484375 18.828125 43.109375 \nQ 14.796875 37.75 14.796875 27.984375 \nQ 14.796875 18.265625 18.828125 12.890625 \nQ 22.859375 7.515625 30.078125 7.515625 \nQ 37.359375 7.515625 41.375 12.890625 \nQ 45.40625 18.265625 45.40625 27.984375 \nz\nM 54.390625 6.78125 \nQ 54.390625 -7.171875 48.1875 -13.984375 \nQ 42 -20.796875 29.203125 -20.796875 \nQ 24.46875 -20.796875 20.265625 -20.09375 \nQ 16.0625 -19.390625 12.109375 -17.921875 \nL 12.109375 -9.1875 \nQ 16.0625 -11.328125 19.921875 -12.34375 \nQ 23.78125 -13.375 27.78125 -13.375 \nQ 36.625 -13.375 41.015625 -8.765625 \nQ 45.40625 -4.15625 45.40625 5.171875 \nL 45.40625 9.625 \nQ 42.625 4.78125 38.28125 2.390625 \nQ 33.9375 0 27.875 0 \nQ 17.828125 0 11.671875 7.65625 \nQ 5.515625 15.328125 5.515625 27.984375 \nQ 5.515625 40.671875 11.671875 48.328125 \nQ 17.828125 56 27.875 56 \nQ 33.9375 56 38.28125 53.609375 \nQ 42.625 51.21875 45.40625 46.390625 \nL 45.40625 54.6875 \nL 54.390625 54.6875 \nz\n\" id=\"DejaVuSans-103\"/>\n       <path d=\"M 45.40625 46.390625 \nL 45.40625 75.984375 \nL 54.390625 75.984375 \nL 54.390625 0 \nL 45.40625 0 \nL 45.40625 8.203125 \nQ 42.578125 3.328125 38.25 0.953125 \nQ 33.9375 -1.421875 27.875 -1.421875 \nQ 17.96875 -1.421875 11.734375 6.484375 \nQ 5.515625 14.40625 5.515625 27.296875 \nQ 5.515625 40.1875 11.734375 48.09375 \nQ 17.96875 56 27.875 56 \nQ 33.9375 56 38.25 53.625 \nQ 42.578125 51.265625 45.40625 46.390625 \nz\nM 14.796875 27.296875 \nQ 14.796875 17.390625 18.875 11.75 \nQ 22.953125 6.109375 30.078125 6.109375 \nQ 37.203125 6.109375 41.296875 11.75 \nQ 45.40625 17.390625 45.40625 27.296875 \nQ 45.40625 37.203125 41.296875 42.84375 \nQ 37.203125 48.484375 30.078125 48.484375 \nQ 22.953125 48.484375 18.875 42.84375 \nQ 14.796875 37.203125 14.796875 27.296875 \nz\n\" id=\"DejaVuSans-100\"/>\n       <path d=\"M 18.109375 8.203125 \nL 18.109375 -20.796875 \nL 9.078125 -20.796875 \nL 9.078125 54.6875 \nL 18.109375 54.6875 \nL 18.109375 46.390625 \nQ 20.953125 51.265625 25.265625 53.625 \nQ 29.59375 56 35.59375 56 \nQ 45.5625 56 51.78125 48.09375 \nQ 58.015625 40.1875 58.015625 27.296875 \nQ 58.015625 14.40625 51.78125 6.484375 \nQ 45.5625 -1.421875 35.59375 -1.421875 \nQ 29.59375 -1.421875 25.265625 0.953125 \nQ 20.953125 3.328125 18.109375 8.203125 \nz\nM 48.6875 27.296875 \nQ 48.6875 37.203125 44.609375 42.84375 \nQ 40.53125 48.484375 33.40625 48.484375 \nQ 26.265625 48.484375 22.1875 42.84375 \nQ 18.109375 37.203125 18.109375 27.296875 \nQ 18.109375 17.390625 22.1875 11.75 \nQ 26.265625 6.109375 33.40625 6.109375 \nQ 40.53125 6.109375 44.609375 11.75 \nQ 48.6875 17.390625 48.6875 27.296875 \nz\n\" id=\"DejaVuSans-112\"/>\n      </defs>\n      <g transform=\"translate(178.439844 249.836875)scale(0.1 -0.1)\">\n       <use xlink:href=\"#DejaVuSans-103\"/>\n       <use x=\"63.476562\" xlink:href=\"#DejaVuSans-100\"/>\n       <use x=\"126.953125\" xlink:href=\"#DejaVuSans-112\"/>\n      </g>\n     </g>\n    </g>\n   </g>\n   <g id=\"matplotlib.axis_2\">\n    <g id=\"ytick_1\">\n     <g id=\"line2d_2\">\n      <defs>\n       <path d=\"M 0 0 \nL -3.5 0 \n\" id=\"m8e79fa1857\" style=\"stroke:#000000;stroke-width:0.8;\"/>\n      </defs>\n      <g>\n       <use style=\"stroke:#000000;stroke-width:0.8;\" x=\"20.5625\" xlink:href=\"#m8e79fa1857\" y=\"225.354896\"/>\n      </g>\n     </g>\n     <g id=\"text_2\">\n      <!-- 0 -->\n      <defs>\n       <path d=\"M 31.78125 66.40625 \nQ 24.171875 66.40625 20.328125 58.90625 \nQ 16.5 51.421875 16.5 36.375 \nQ 16.5 21.390625 20.328125 13.890625 \nQ 24.171875 6.390625 31.78125 6.390625 \nQ 39.453125 6.390625 43.28125 13.890625 \nQ 47.125 21.390625 47.125 36.375 \nQ 47.125 51.421875 43.28125 58.90625 \nQ 39.453125 66.40625 31.78125 66.40625 \nz\nM 31.78125 74.21875 \nQ 44.046875 74.21875 50.515625 64.515625 \nQ 56.984375 54.828125 56.984375 36.375 \nQ 56.984375 17.96875 50.515625 8.265625 \nQ 44.046875 -1.421875 31.78125 -1.421875 \nQ 19.53125 -1.421875 13.0625 8.265625 \nQ 6.59375 17.96875 6.59375 36.375 \nQ 6.59375 54.828125 13.0625 64.515625 \nQ 19.53125 74.21875 31.78125 74.21875 \nz\n\" id=\"DejaVuSans-48\"/>\n      </defs>\n      <g transform=\"translate(7.2 229.154115)scale(0.1 -0.1)\">\n       <use xlink:href=\"#DejaVuSans-48\"/>\n      </g>\n     </g>\n    </g>\n    <g id=\"ytick_2\">\n     <g id=\"line2d_3\">\n      <g>\n       <use style=\"stroke:#000000;stroke-width:0.8;\" x=\"20.5625\" xlink:href=\"#m8e79fa1857\" y=\"199.323671\"/>\n      </g>\n     </g>\n     <g id=\"text_3\">\n      <!-- 1 -->\n      <defs>\n       <path d=\"M 12.40625 8.296875 \nL 28.515625 8.296875 \nL 28.515625 63.921875 \nL 10.984375 60.40625 \nL 10.984375 69.390625 \nL 28.421875 72.90625 \nL 38.28125 72.90625 \nL 38.28125 8.296875 \nL 54.390625 8.296875 \nL 54.390625 0 \nL 12.40625 0 \nz\n\" id=\"DejaVuSans-49\"/>\n      </defs>\n      <g transform=\"translate(7.2 203.12289)scale(0.1 -0.1)\">\n       <use xlink:href=\"#DejaVuSans-49\"/>\n      </g>\n     </g>\n    </g>\n    <g id=\"ytick_3\">\n     <g id=\"line2d_4\">\n      <g>\n       <use style=\"stroke:#000000;stroke-width:0.8;\" x=\"20.5625\" xlink:href=\"#m8e79fa1857\" y=\"173.292446\"/>\n      </g>\n     </g>\n     <g id=\"text_4\">\n      <!-- 2 -->\n      <defs>\n       <path d=\"M 19.1875 8.296875 \nL 53.609375 8.296875 \nL 53.609375 0 \nL 7.328125 0 \nL 7.328125 8.296875 \nQ 12.9375 14.109375 22.625 23.890625 \nQ 32.328125 33.6875 34.8125 36.53125 \nQ 39.546875 41.84375 41.421875 45.53125 \nQ 43.3125 49.21875 43.3125 52.78125 \nQ 43.3125 58.59375 39.234375 62.25 \nQ 35.15625 65.921875 28.609375 65.921875 \nQ 23.96875 65.921875 18.8125 64.3125 \nQ 13.671875 62.703125 7.8125 59.421875 \nL 7.8125 69.390625 \nQ 13.765625 71.78125 18.9375 73 \nQ 24.125 74.21875 28.421875 74.21875 \nQ 39.75 74.21875 46.484375 68.546875 \nQ 53.21875 62.890625 53.21875 53.421875 \nQ 53.21875 48.921875 51.53125 44.890625 \nQ 49.859375 40.875 45.40625 35.40625 \nQ 44.1875 33.984375 37.640625 27.21875 \nQ 31.109375 20.453125 19.1875 8.296875 \nz\n\" id=\"DejaVuSans-50\"/>\n      </defs>\n      <g transform=\"translate(7.2 177.091665)scale(0.1 -0.1)\">\n       <use xlink:href=\"#DejaVuSans-50\"/>\n      </g>\n     </g>\n    </g>\n    <g id=\"ytick_4\">\n     <g id=\"line2d_5\">\n      <g>\n       <use style=\"stroke:#000000;stroke-width:0.8;\" x=\"20.5625\" xlink:href=\"#m8e79fa1857\" y=\"147.261221\"/>\n      </g>\n     </g>\n     <g id=\"text_5\">\n      <!-- 3 -->\n      <defs>\n       <path d=\"M 40.578125 39.3125 \nQ 47.65625 37.796875 51.625 33 \nQ 55.609375 28.21875 55.609375 21.1875 \nQ 55.609375 10.40625 48.1875 4.484375 \nQ 40.765625 -1.421875 27.09375 -1.421875 \nQ 22.515625 -1.421875 17.65625 -0.515625 \nQ 12.796875 0.390625 7.625 2.203125 \nL 7.625 11.71875 \nQ 11.71875 9.328125 16.59375 8.109375 \nQ 21.484375 6.890625 26.8125 6.890625 \nQ 36.078125 6.890625 40.9375 10.546875 \nQ 45.796875 14.203125 45.796875 21.1875 \nQ 45.796875 27.640625 41.28125 31.265625 \nQ 36.765625 34.90625 28.71875 34.90625 \nL 20.21875 34.90625 \nL 20.21875 43.015625 \nL 29.109375 43.015625 \nQ 36.375 43.015625 40.234375 45.921875 \nQ 44.09375 48.828125 44.09375 54.296875 \nQ 44.09375 59.90625 40.109375 62.90625 \nQ 36.140625 65.921875 28.71875 65.921875 \nQ 24.65625 65.921875 20.015625 65.03125 \nQ 15.375 64.15625 9.8125 62.3125 \nL 9.8125 71.09375 \nQ 15.4375 72.65625 20.34375 73.4375 \nQ 25.25 74.21875 29.59375 74.21875 \nQ 40.828125 74.21875 47.359375 69.109375 \nQ 53.90625 64.015625 53.90625 55.328125 \nQ 53.90625 49.265625 50.4375 45.09375 \nQ 46.96875 40.921875 40.578125 39.3125 \nz\n\" id=\"DejaVuSans-51\"/>\n      </defs>\n      <g transform=\"translate(7.2 151.06044)scale(0.1 -0.1)\">\n       <use xlink:href=\"#DejaVuSans-51\"/>\n      </g>\n     </g>\n    </g>\n    <g id=\"ytick_5\">\n     <g id=\"line2d_6\">\n      <g>\n       <use style=\"stroke:#000000;stroke-width:0.8;\" x=\"20.5625\" xlink:href=\"#m8e79fa1857\" y=\"121.229996\"/>\n      </g>\n     </g>\n     <g id=\"text_6\">\n      <!-- 4 -->\n      <defs>\n       <path d=\"M 37.796875 64.3125 \nL 12.890625 25.390625 \nL 37.796875 25.390625 \nz\nM 35.203125 72.90625 \nL 47.609375 72.90625 \nL 47.609375 25.390625 \nL 58.015625 25.390625 \nL 58.015625 17.1875 \nL 47.609375 17.1875 \nL 47.609375 0 \nL 37.796875 0 \nL 37.796875 17.1875 \nL 4.890625 17.1875 \nL 4.890625 26.703125 \nz\n\" id=\"DejaVuSans-52\"/>\n      </defs>\n      <g transform=\"translate(7.2 125.029215)scale(0.1 -0.1)\">\n       <use xlink:href=\"#DejaVuSans-52\"/>\n      </g>\n     </g>\n    </g>\n    <g id=\"ytick_6\">\n     <g id=\"line2d_7\">\n      <g>\n       <use style=\"stroke:#000000;stroke-width:0.8;\" x=\"20.5625\" xlink:href=\"#m8e79fa1857\" y=\"95.198771\"/>\n      </g>\n     </g>\n     <g id=\"text_7\">\n      <!-- 5 -->\n      <defs>\n       <path d=\"M 10.796875 72.90625 \nL 49.515625 72.90625 \nL 49.515625 64.59375 \nL 19.828125 64.59375 \nL 19.828125 46.734375 \nQ 21.96875 47.46875 24.109375 47.828125 \nQ 26.265625 48.1875 28.421875 48.1875 \nQ 40.625 48.1875 47.75 41.5 \nQ 54.890625 34.8125 54.890625 23.390625 \nQ 54.890625 11.625 47.5625 5.09375 \nQ 40.234375 -1.421875 26.90625 -1.421875 \nQ 22.3125 -1.421875 17.546875 -0.640625 \nQ 12.796875 0.140625 7.71875 1.703125 \nL 7.71875 11.625 \nQ 12.109375 9.234375 16.796875 8.0625 \nQ 21.484375 6.890625 26.703125 6.890625 \nQ 35.15625 6.890625 40.078125 11.328125 \nQ 45.015625 15.765625 45.015625 23.390625 \nQ 45.015625 31 40.078125 35.4375 \nQ 35.15625 39.890625 26.703125 39.890625 \nQ 22.75 39.890625 18.8125 39.015625 \nQ 14.890625 38.140625 10.796875 36.28125 \nz\n\" id=\"DejaVuSans-53\"/>\n      </defs>\n      <g transform=\"translate(7.2 98.99799)scale(0.1 -0.1)\">\n       <use xlink:href=\"#DejaVuSans-53\"/>\n      </g>\n     </g>\n    </g>\n    <g id=\"ytick_7\">\n     <g id=\"line2d_8\">\n      <g>\n       <use style=\"stroke:#000000;stroke-width:0.8;\" x=\"20.5625\" xlink:href=\"#m8e79fa1857\" y=\"69.167546\"/>\n      </g>\n     </g>\n     <g id=\"text_8\">\n      <!-- 6 -->\n      <defs>\n       <path d=\"M 33.015625 40.375 \nQ 26.375 40.375 22.484375 35.828125 \nQ 18.609375 31.296875 18.609375 23.390625 \nQ 18.609375 15.53125 22.484375 10.953125 \nQ 26.375 6.390625 33.015625 6.390625 \nQ 39.65625 6.390625 43.53125 10.953125 \nQ 47.40625 15.53125 47.40625 23.390625 \nQ 47.40625 31.296875 43.53125 35.828125 \nQ 39.65625 40.375 33.015625 40.375 \nz\nM 52.59375 71.296875 \nL 52.59375 62.3125 \nQ 48.875 64.0625 45.09375 64.984375 \nQ 41.3125 65.921875 37.59375 65.921875 \nQ 27.828125 65.921875 22.671875 59.328125 \nQ 17.53125 52.734375 16.796875 39.40625 \nQ 19.671875 43.65625 24.015625 45.921875 \nQ 28.375 48.1875 33.59375 48.1875 \nQ 44.578125 48.1875 50.953125 41.515625 \nQ 57.328125 34.859375 57.328125 23.390625 \nQ 57.328125 12.15625 50.6875 5.359375 \nQ 44.046875 -1.421875 33.015625 -1.421875 \nQ 20.359375 -1.421875 13.671875 8.265625 \nQ 6.984375 17.96875 6.984375 36.375 \nQ 6.984375 53.65625 15.1875 63.9375 \nQ 23.390625 74.21875 37.203125 74.21875 \nQ 40.921875 74.21875 44.703125 73.484375 \nQ 48.484375 72.75 52.59375 71.296875 \nz\n\" id=\"DejaVuSans-54\"/>\n      </defs>\n      <g transform=\"translate(7.2 72.966765)scale(0.1 -0.1)\">\n       <use xlink:href=\"#DejaVuSans-54\"/>\n      </g>\n     </g>\n    </g>\n    <g id=\"ytick_8\">\n     <g id=\"line2d_9\">\n      <g>\n       <use style=\"stroke:#000000;stroke-width:0.8;\" x=\"20.5625\" xlink:href=\"#m8e79fa1857\" y=\"43.136321\"/>\n      </g>\n     </g>\n     <g id=\"text_9\">\n      <!-- 7 -->\n      <defs>\n       <path d=\"M 8.203125 72.90625 \nL 55.078125 72.90625 \nL 55.078125 68.703125 \nL 28.609375 0 \nL 18.3125 0 \nL 43.21875 64.59375 \nL 8.203125 64.59375 \nz\n\" id=\"DejaVuSans-55\"/>\n      </defs>\n      <g transform=\"translate(7.2 46.93554)scale(0.1 -0.1)\">\n       <use xlink:href=\"#DejaVuSans-55\"/>\n      </g>\n     </g>\n    </g>\n    <g id=\"text_10\">\n     <!-- 1e13 -->\n     <defs>\n      <path d=\"M 56.203125 29.59375 \nL 56.203125 25.203125 \nL 14.890625 25.203125 \nQ 15.484375 15.921875 20.484375 11.0625 \nQ 25.484375 6.203125 34.421875 6.203125 \nQ 39.59375 6.203125 44.453125 7.46875 \nQ 49.3125 8.734375 54.109375 11.28125 \nL 54.109375 2.78125 \nQ 49.265625 0.734375 44.1875 -0.34375 \nQ 39.109375 -1.421875 33.890625 -1.421875 \nQ 20.796875 -1.421875 13.15625 6.1875 \nQ 5.515625 13.8125 5.515625 26.8125 \nQ 5.515625 40.234375 12.765625 48.109375 \nQ 20.015625 56 32.328125 56 \nQ 43.359375 56 49.78125 48.890625 \nQ 56.203125 41.796875 56.203125 29.59375 \nz\nM 47.21875 32.234375 \nQ 47.125 39.59375 43.09375 43.984375 \nQ 39.0625 48.390625 32.421875 48.390625 \nQ 24.90625 48.390625 20.390625 44.140625 \nQ 15.875 39.890625 15.1875 32.171875 \nz\n\" id=\"DejaVuSans-101\"/>\n     </defs>\n     <g transform=\"translate(20.5625 14.798437)scale(0.1 -0.1)\">\n      <use xlink:href=\"#DejaVuSans-49\"/>\n      <use x=\"63.623047\" xlink:href=\"#DejaVuSans-101\"/>\n      <use x=\"125.146484\" xlink:href=\"#DejaVuSans-49\"/>\n      <use x=\"188.769531\" xlink:href=\"#DejaVuSans-51\"/>\n     </g>\n    </g>\n   </g>\n   <g id=\"line2d_10\">\n    <path clip-path=\"url(#p17f314a6f2)\" d=\"M 162.8525 225.33689 \nL 213.0725 225.33689 \nL 213.0725 224.135309 \nL 162.8525 224.135309 \nL 162.8525 225.33689 \n\" style=\"fill:none;stroke:#1f77b4;stroke-linecap:square;\"/>\n   </g>\n   <g id=\"line2d_11\">\n    <path clip-path=\"url(#p17f314a6f2)\" d=\"M 187.9625 225.33689 \nL 187.9625 225.354801 \n\" style=\"fill:none;stroke:#1f77b4;stroke-linecap:square;\"/>\n   </g>\n   <g id=\"line2d_12\">\n    <path clip-path=\"url(#p17f314a6f2)\" d=\"M 187.9625 224.135309 \nL 187.9625 222.551562 \n\" style=\"fill:none;stroke:#1f77b4;stroke-linecap:square;\"/>\n   </g>\n   <g id=\"line2d_13\">\n    <path clip-path=\"url(#p17f314a6f2)\" d=\"M 175.4075 225.354801 \nL 200.5175 225.354801 \n\" style=\"fill:none;stroke:#000000;stroke-linecap:square;\"/>\n   </g>\n   <g id=\"line2d_14\">\n    <path clip-path=\"url(#p17f314a6f2)\" d=\"M 175.4075 222.551562 \nL 200.5175 222.551562 \n\" style=\"fill:none;stroke:#000000;stroke-linecap:square;\"/>\n   </g>\n   <g id=\"line2d_15\">\n    <defs>\n     <path d=\"M 0 3 \nC 0.795609 3 1.55874 2.683901 2.12132 2.12132 \nC 2.683901 1.55874 3 0.795609 3 0 \nC 3 -0.795609 2.683901 -1.55874 2.12132 -2.12132 \nC 1.55874 -2.683901 0.795609 -3 0 -3 \nC -0.795609 -3 -1.55874 -2.683901 -2.12132 -2.12132 \nC -2.683901 -1.55874 -3 -0.795609 -3 0 \nC -3 0.795609 -2.683901 1.55874 -2.12132 2.12132 \nC -1.55874 2.683901 -0.795609 3 0 3 \nz\n\" id=\"m366782da7b\" style=\"stroke:#000000;\"/>\n    </defs>\n    <g clip-path=\"url(#p17f314a6f2)\">\n     <use style=\"fill-opacity:0;stroke:#000000;\" x=\"187.9625\" xlink:href=\"#m366782da7b\" y=\"218.846663\"/>\n     <use style=\"fill-opacity:0;stroke:#000000;\" x=\"187.9625\" xlink:href=\"#m366782da7b\" y=\"222.210223\"/>\n     <use style=\"fill-opacity:0;stroke:#000000;\" x=\"187.9625\" xlink:href=\"#m366782da7b\" y=\"220.684923\"/>\n     <use style=\"fill-opacity:0;stroke:#000000;\" x=\"187.9625\" xlink:href=\"#m366782da7b\" y=\"221.357105\"/>\n     <use style=\"fill-opacity:0;stroke:#000000;\" x=\"187.9625\" xlink:href=\"#m366782da7b\" y=\"221.936822\"/>\n     <use style=\"fill-opacity:0;stroke:#000000;\" x=\"187.9625\" xlink:href=\"#m366782da7b\" y=\"196.223372\"/>\n     <use style=\"fill-opacity:0;stroke:#000000;\" x=\"187.9625\" xlink:href=\"#m366782da7b\" y=\"216.301767\"/>\n     <use style=\"fill-opacity:0;stroke:#000000;\" x=\"187.9625\" xlink:href=\"#m366782da7b\" y=\"190.188444\"/>\n     <use style=\"fill-opacity:0;stroke:#000000;\" x=\"187.9625\" xlink:href=\"#m366782da7b\" y=\"198.184979\"/>\n     <use style=\"fill-opacity:0;stroke:#000000;\" x=\"187.9625\" xlink:href=\"#m366782da7b\" y=\"166.752961\"/>\n     <use style=\"fill-opacity:0;stroke:#000000;\" x=\"187.9625\" xlink:href=\"#m366782da7b\" y=\"217.693133\"/>\n     <use style=\"fill-opacity:0;stroke:#000000;\" x=\"187.9625\" xlink:href=\"#m366782da7b\" y=\"172.561719\"/>\n     <use style=\"fill-opacity:0;stroke:#000000;\" x=\"187.9625\" xlink:href=\"#m366782da7b\" y=\"194.28731\"/>\n     <use style=\"fill-opacity:0;stroke:#000000;\" x=\"187.9625\" xlink:href=\"#m366782da7b\" y=\"222.13417\"/>\n     <use style=\"fill-opacity:0;stroke:#000000;\" x=\"187.9625\" xlink:href=\"#m366782da7b\" y=\"182.424575\"/>\n     <use style=\"fill-opacity:0;stroke:#000000;\" x=\"187.9625\" xlink:href=\"#m366782da7b\" y=\"218.93785\"/>\n     <use style=\"fill-opacity:0;stroke:#000000;\" x=\"187.9625\" xlink:href=\"#m366782da7b\" y=\"218.454409\"/>\n     <use style=\"fill-opacity:0;stroke:#000000;\" x=\"187.9625\" xlink:href=\"#m366782da7b\" y=\"97.068188\"/>\n     <use style=\"fill-opacity:0;stroke:#000000;\" x=\"187.9625\" xlink:href=\"#m366782da7b\" y=\"157.607439\"/>\n     <use style=\"fill-opacity:0;stroke:#000000;\" x=\"187.9625\" xlink:href=\"#m366782da7b\" y=\"152.452723\"/>\n     <use style=\"fill-opacity:0;stroke:#000000;\" x=\"187.9625\" xlink:href=\"#m366782da7b\" y=\"220.177754\"/>\n     <use style=\"fill-opacity:0;stroke:#000000;\" x=\"187.9625\" xlink:href=\"#m366782da7b\" y=\"219.434798\"/>\n     <use style=\"fill-opacity:0;stroke:#000000;\" x=\"187.9625\" xlink:href=\"#m366782da7b\" y=\"220.514693\"/>\n     <use style=\"fill-opacity:0;stroke:#000000;\" x=\"187.9625\" xlink:href=\"#m366782da7b\" y=\"212.471332\"/>\n     <use style=\"fill-opacity:0;stroke:#000000;\" x=\"187.9625\" xlink:href=\"#m366782da7b\" y=\"221.671988\"/>\n     <use style=\"fill-opacity:0;stroke:#000000;\" x=\"187.9625\" xlink:href=\"#m366782da7b\" y=\"214.255724\"/>\n     <use style=\"fill-opacity:0;stroke:#000000;\" x=\"187.9625\" xlink:href=\"#m366782da7b\" y=\"211.400444\"/>\n     <use style=\"fill-opacity:0;stroke:#000000;\" x=\"187.9625\" xlink:href=\"#m366782da7b\" y=\"209.64037\"/>\n     <use style=\"fill-opacity:0;stroke:#000000;\" x=\"187.9625\" xlink:href=\"#m366782da7b\" y=\"155.946381\"/>\n     <use style=\"fill-opacity:0;stroke:#000000;\" x=\"187.9625\" xlink:href=\"#m366782da7b\" y=\"177.281499\"/>\n     <use style=\"fill-opacity:0;stroke:#000000;\" x=\"187.9625\" xlink:href=\"#m366782da7b\" y=\"217.174626\"/>\n     <use style=\"fill-opacity:0;stroke:#000000;\" x=\"187.9625\" xlink:href=\"#m366782da7b\" y=\"157.262868\"/>\n     <use style=\"fill-opacity:0;stroke:#000000;\" x=\"187.9625\" xlink:href=\"#m366782da7b\" y=\"221.594221\"/>\n     <use style=\"fill-opacity:0;stroke:#000000;\" x=\"187.9625\" xlink:href=\"#m366782da7b\" y=\"172.859533\"/>\n     <use style=\"fill-opacity:0;stroke:#000000;\" x=\"187.9625\" xlink:href=\"#m366782da7b\" y=\"101.406044\"/>\n     <use style=\"fill-opacity:0;stroke:#000000;\" x=\"187.9625\" xlink:href=\"#m366782da7b\" y=\"222.212684\"/>\n     <use style=\"fill-opacity:0;stroke:#000000;\" x=\"187.9625\" xlink:href=\"#m366782da7b\" y=\"107.544421\"/>\n     <use style=\"fill-opacity:0;stroke:#000000;\" x=\"187.9625\" xlink:href=\"#m366782da7b\" y=\"222.010593\"/>\n     <use style=\"fill-opacity:0;stroke:#000000;\" x=\"187.9625\" xlink:href=\"#m366782da7b\" y=\"217.797708\"/>\n     <use style=\"fill-opacity:0;stroke:#000000;\" x=\"187.9625\" xlink:href=\"#m366782da7b\" y=\"221.421457\"/>\n     <use style=\"fill-opacity:0;stroke:#000000;\" x=\"187.9625\" xlink:href=\"#m366782da7b\" y=\"221.417745\"/>\n     <use style=\"fill-opacity:0;stroke:#000000;\" x=\"187.9625\" xlink:href=\"#m366782da7b\" y=\"190.255982\"/>\n     <use style=\"fill-opacity:0;stroke:#000000;\" x=\"187.9625\" xlink:href=\"#m366782da7b\" y=\"216.33238\"/>\n     <use style=\"fill-opacity:0;stroke:#000000;\" x=\"187.9625\" xlink:href=\"#m366782da7b\" y=\"211.989315\"/>\n     <use style=\"fill-opacity:0;stroke:#000000;\" x=\"187.9625\" xlink:href=\"#m366782da7b\" y=\"221.629613\"/>\n     <use style=\"fill-opacity:0;stroke:#000000;\" x=\"187.9625\" xlink:href=\"#m366782da7b\" y=\"217.797708\"/>\n     <use style=\"fill-opacity:0;stroke:#000000;\" x=\"187.9625\" xlink:href=\"#m366782da7b\" y=\"221.417745\"/>\n     <use style=\"fill-opacity:0;stroke:#000000;\" x=\"187.9625\" xlink:href=\"#m366782da7b\" y=\"173.008905\"/>\n     <use style=\"fill-opacity:0;stroke:#000000;\" x=\"187.9625\" xlink:href=\"#m366782da7b\" y=\"176.873106\"/>\n     <use style=\"fill-opacity:0;stroke:#000000;\" x=\"187.9625\" xlink:href=\"#m366782da7b\" y=\"27.682074\"/>\n    </g>\n   </g>\n   <g id=\"line2d_16\">\n    <path clip-path=\"url(#p17f314a6f2)\" d=\"M 162.8525 225.23773 \nL 213.0725 225.23773 \n\" style=\"fill:none;stroke:#2ca02c;stroke-linecap:square;\"/>\n   </g>\n   <g id=\"patch_3\">\n    <path d=\"M 20.5625 235.238438 \nL 20.5625 17.798437 \n\" style=\"fill:none;stroke:#000000;stroke-linecap:square;stroke-linejoin:miter;stroke-width:0.8;\"/>\n   </g>\n   <g id=\"patch_4\">\n    <path d=\"M 355.3625 235.238438 \nL 355.3625 17.798437 \n\" style=\"fill:none;stroke:#000000;stroke-linecap:square;stroke-linejoin:miter;stroke-width:0.8;\"/>\n   </g>\n   <g id=\"patch_5\">\n    <path d=\"M 20.5625 235.238437 \nL 355.3625 235.238437 \n\" style=\"fill:none;stroke:#000000;stroke-linecap:square;stroke-linejoin:miter;stroke-width:0.8;\"/>\n   </g>\n   <g id=\"patch_6\">\n    <path d=\"M 20.5625 17.798437 \nL 355.3625 17.798437 \n\" style=\"fill:none;stroke:#000000;stroke-linecap:square;stroke-linejoin:miter;stroke-width:0.8;\"/>\n   </g>\n  </g>\n </g>\n <defs>\n  <clipPath id=\"p17f314a6f2\">\n   <rect height=\"217.44\" width=\"334.8\" x=\"20.5625\" y=\"17.798437\"/>\n  </clipPath>\n </defs>\n</svg>\n",
      "image/png": "[encoded data removed]"
     },
     "metadata": {
      "needs_background": "light"
     }
    },
    {
     "output_type": "display_data",
     "data": {
      "text/plain": "<Figure size 432x288 with 1 Axes>",
      "image/svg+xml": "<?xml version=\"1.0\" encoding=\"utf-8\" standalone=\"no\"?>\n<!DOCTYPE svg PUBLIC \"-//W3C//DTD SVG 1.1//EN\"\n  \"http://www.w3.org/Graphics/SVG/1.1/DTD/svg11.dtd\">\n<!-- Created with matplotlib (https://matplotlib.org/) -->\n<svg height=\"259.116562pt\" version=\"1.1\" viewBox=\"0 0 362.5625 259.116562\" width=\"362.5625pt\" xmlns=\"http://www.w3.org/2000/svg\" xmlns:xlink=\"http://www.w3.org/1999/xlink\">\n <defs>\n  <style type=\"text/css\">\n*{stroke-linecap:butt;stroke-linejoin:round;}\n  </style>\n </defs>\n <g id=\"figure_1\">\n  <g id=\"patch_1\">\n   <path d=\"M 0 259.116562 \nL 362.5625 259.116562 \nL 362.5625 0 \nL 0 0 \nz\n\" style=\"fill:none;\"/>\n  </g>\n  <g id=\"axes_1\">\n   <g id=\"patch_2\">\n    <path d=\"M 20.5625 235.238437 \nL 355.3625 235.238437 \nL 355.3625 17.798437 \nL 20.5625 17.798437 \nz\n\" style=\"fill:#ffffff;\"/>\n   </g>\n   <g id=\"matplotlib.axis_1\">\n    <g id=\"xtick_1\">\n     <g id=\"line2d_1\">\n      <defs>\n       <path d=\"M 0 0 \nL 0 3.5 \n\" id=\"m8c5aff15f3\" style=\"stroke:#000000;stroke-width:0.8;\"/>\n      </defs>\n      <g>\n       <use style=\"stroke:#000000;stroke-width:0.8;\" x=\"187.9625\" xlink:href=\"#m8c5aff15f3\" y=\"235.238437\"/>\n      </g>\n     </g>\n     <g id=\"text_1\">\n      <!-- population -->\n      <defs>\n       <path d=\"M 18.109375 8.203125 \nL 18.109375 -20.796875 \nL 9.078125 -20.796875 \nL 9.078125 54.6875 \nL 18.109375 54.6875 \nL 18.109375 46.390625 \nQ 20.953125 51.265625 25.265625 53.625 \nQ 29.59375 56 35.59375 56 \nQ 45.5625 56 51.78125 48.09375 \nQ 58.015625 40.1875 58.015625 27.296875 \nQ 58.015625 14.40625 51.78125 6.484375 \nQ 45.5625 -1.421875 35.59375 -1.421875 \nQ 29.59375 -1.421875 25.265625 0.953125 \nQ 20.953125 3.328125 18.109375 8.203125 \nz\nM 48.6875 27.296875 \nQ 48.6875 37.203125 44.609375 42.84375 \nQ 40.53125 48.484375 33.40625 48.484375 \nQ 26.265625 48.484375 22.1875 42.84375 \nQ 18.109375 37.203125 18.109375 27.296875 \nQ 18.109375 17.390625 22.1875 11.75 \nQ 26.265625 6.109375 33.40625 6.109375 \nQ 40.53125 6.109375 44.609375 11.75 \nQ 48.6875 17.390625 48.6875 27.296875 \nz\n\" id=\"DejaVuSans-112\"/>\n       <path d=\"M 30.609375 48.390625 \nQ 23.390625 48.390625 19.1875 42.75 \nQ 14.984375 37.109375 14.984375 27.296875 \nQ 14.984375 17.484375 19.15625 11.84375 \nQ 23.34375 6.203125 30.609375 6.203125 \nQ 37.796875 6.203125 41.984375 11.859375 \nQ 46.1875 17.53125 46.1875 27.296875 \nQ 46.1875 37.015625 41.984375 42.703125 \nQ 37.796875 48.390625 30.609375 48.390625 \nz\nM 30.609375 56 \nQ 42.328125 56 49.015625 48.375 \nQ 55.71875 40.765625 55.71875 27.296875 \nQ 55.71875 13.875 49.015625 6.21875 \nQ 42.328125 -1.421875 30.609375 -1.421875 \nQ 18.84375 -1.421875 12.171875 6.21875 \nQ 5.515625 13.875 5.515625 27.296875 \nQ 5.515625 40.765625 12.171875 48.375 \nQ 18.84375 56 30.609375 56 \nz\n\" id=\"DejaVuSans-111\"/>\n       <path d=\"M 8.5 21.578125 \nL 8.5 54.6875 \nL 17.484375 54.6875 \nL 17.484375 21.921875 \nQ 17.484375 14.15625 20.5 10.265625 \nQ 23.53125 6.390625 29.59375 6.390625 \nQ 36.859375 6.390625 41.078125 11.03125 \nQ 45.3125 15.671875 45.3125 23.6875 \nL 45.3125 54.6875 \nL 54.296875 54.6875 \nL 54.296875 0 \nL 45.3125 0 \nL 45.3125 8.40625 \nQ 42.046875 3.421875 37.71875 1 \nQ 33.40625 -1.421875 27.6875 -1.421875 \nQ 18.265625 -1.421875 13.375 4.4375 \nQ 8.5 10.296875 8.5 21.578125 \nz\nM 31.109375 56 \nz\n\" id=\"DejaVuSans-117\"/>\n       <path d=\"M 9.421875 75.984375 \nL 18.40625 75.984375 \nL 18.40625 0 \nL 9.421875 0 \nz\n\" id=\"DejaVuSans-108\"/>\n       <path d=\"M 34.28125 27.484375 \nQ 23.390625 27.484375 19.1875 25 \nQ 14.984375 22.515625 14.984375 16.5 \nQ 14.984375 11.71875 18.140625 8.90625 \nQ 21.296875 6.109375 26.703125 6.109375 \nQ 34.1875 6.109375 38.703125 11.40625 \nQ 43.21875 16.703125 43.21875 25.484375 \nL 43.21875 27.484375 \nz\nM 52.203125 31.203125 \nL 52.203125 0 \nL 43.21875 0 \nL 43.21875 8.296875 \nQ 40.140625 3.328125 35.546875 0.953125 \nQ 30.953125 -1.421875 24.3125 -1.421875 \nQ 15.921875 -1.421875 10.953125 3.296875 \nQ 6 8.015625 6 15.921875 \nQ 6 25.140625 12.171875 29.828125 \nQ 18.359375 34.515625 30.609375 34.515625 \nL 43.21875 34.515625 \nL 43.21875 35.40625 \nQ 43.21875 41.609375 39.140625 45 \nQ 35.0625 48.390625 27.6875 48.390625 \nQ 23 48.390625 18.546875 47.265625 \nQ 14.109375 46.140625 10.015625 43.890625 \nL 10.015625 52.203125 \nQ 14.9375 54.109375 19.578125 55.046875 \nQ 24.21875 56 28.609375 56 \nQ 40.484375 56 46.34375 49.84375 \nQ 52.203125 43.703125 52.203125 31.203125 \nz\n\" id=\"DejaVuSans-97\"/>\n       <path d=\"M 18.3125 70.21875 \nL 18.3125 54.6875 \nL 36.8125 54.6875 \nL 36.8125 47.703125 \nL 18.3125 47.703125 \nL 18.3125 18.015625 \nQ 18.3125 11.328125 20.140625 9.421875 \nQ 21.96875 7.515625 27.59375 7.515625 \nL 36.8125 7.515625 \nL 36.8125 0 \nL 27.59375 0 \nQ 17.1875 0 13.234375 3.875 \nQ 9.28125 7.765625 9.28125 18.015625 \nL 9.28125 47.703125 \nL 2.6875 47.703125 \nL 2.6875 54.6875 \nL 9.28125 54.6875 \nL 9.28125 70.21875 \nz\n\" id=\"DejaVuSans-116\"/>\n       <path d=\"M 9.421875 54.6875 \nL 18.40625 54.6875 \nL 18.40625 0 \nL 9.421875 0 \nz\nM 9.421875 75.984375 \nL 18.40625 75.984375 \nL 18.40625 64.59375 \nL 9.421875 64.59375 \nz\n\" id=\"DejaVuSans-105\"/>\n       <path d=\"M 54.890625 33.015625 \nL 54.890625 0 \nL 45.90625 0 \nL 45.90625 32.71875 \nQ 45.90625 40.484375 42.875 44.328125 \nQ 39.84375 48.1875 33.796875 48.1875 \nQ 26.515625 48.1875 22.3125 43.546875 \nQ 18.109375 38.921875 18.109375 30.90625 \nL 18.109375 0 \nL 9.078125 0 \nL 9.078125 54.6875 \nL 18.109375 54.6875 \nL 18.109375 46.1875 \nQ 21.34375 51.125 25.703125 53.5625 \nQ 30.078125 56 35.796875 56 \nQ 45.21875 56 50.046875 50.171875 \nQ 54.890625 44.34375 54.890625 33.015625 \nz\n\" id=\"DejaVuSans-110\"/>\n      </defs>\n      <g transform=\"translate(161.355469 249.836875)scale(0.1 -0.1)\">\n       <use xlink:href=\"#DejaVuSans-112\"/>\n       <use x=\"63.476562\" xlink:href=\"#DejaVuSans-111\"/>\n       <use x=\"124.658203\" xlink:href=\"#DejaVuSans-112\"/>\n       <use x=\"188.134766\" xlink:href=\"#DejaVuSans-117\"/>\n       <use x=\"251.513672\" xlink:href=\"#DejaVuSans-108\"/>\n       <use x=\"279.296875\" xlink:href=\"#DejaVuSans-97\"/>\n       <use x=\"340.576172\" xlink:href=\"#DejaVuSans-116\"/>\n       <use x=\"379.785156\" xlink:href=\"#DejaVuSans-105\"/>\n       <use x=\"407.568359\" xlink:href=\"#DejaVuSans-111\"/>\n       <use x=\"468.75\" xlink:href=\"#DejaVuSans-110\"/>\n      </g>\n     </g>\n    </g>\n   </g>\n   <g id=\"matplotlib.axis_2\">\n    <g id=\"ytick_1\">\n     <g id=\"line2d_2\">\n      <defs>\n       <path d=\"M 0 0 \nL -3.5 0 \n\" id=\"mad4ccaa2ac\" style=\"stroke:#000000;stroke-width:0.8;\"/>\n      </defs>\n      <g>\n       <use style=\"stroke:#000000;stroke-width:0.8;\" x=\"20.5625\" xlink:href=\"#mad4ccaa2ac\" y=\"225.355096\"/>\n      </g>\n     </g>\n     <g id=\"text_2\">\n      <!-- 0 -->\n      <defs>\n       <path d=\"M 31.78125 66.40625 \nQ 24.171875 66.40625 20.328125 58.90625 \nQ 16.5 51.421875 16.5 36.375 \nQ 16.5 21.390625 20.328125 13.890625 \nQ 24.171875 6.390625 31.78125 6.390625 \nQ 39.453125 6.390625 43.28125 13.890625 \nQ 47.125 21.390625 47.125 36.375 \nQ 47.125 51.421875 43.28125 58.90625 \nQ 39.453125 66.40625 31.78125 66.40625 \nz\nM 31.78125 74.21875 \nQ 44.046875 74.21875 50.515625 64.515625 \nQ 56.984375 54.828125 56.984375 36.375 \nQ 56.984375 17.96875 50.515625 8.265625 \nQ 44.046875 -1.421875 31.78125 -1.421875 \nQ 19.53125 -1.421875 13.0625 8.265625 \nQ 6.59375 17.96875 6.59375 36.375 \nQ 6.59375 54.828125 13.0625 64.515625 \nQ 19.53125 74.21875 31.78125 74.21875 \nz\n\" id=\"DejaVuSans-48\"/>\n      </defs>\n      <g transform=\"translate(7.2 229.154315)scale(0.1 -0.1)\">\n       <use xlink:href=\"#DejaVuSans-48\"/>\n      </g>\n     </g>\n    </g>\n    <g id=\"ytick_2\">\n     <g id=\"line2d_3\">\n      <g>\n       <use style=\"stroke:#000000;stroke-width:0.8;\" x=\"20.5625\" xlink:href=\"#mad4ccaa2ac\" y=\"198.800979\"/>\n      </g>\n     </g>\n     <g id=\"text_3\">\n      <!-- 1 -->\n      <defs>\n       <path d=\"M 12.40625 8.296875 \nL 28.515625 8.296875 \nL 28.515625 63.921875 \nL 10.984375 60.40625 \nL 10.984375 69.390625 \nL 28.421875 72.90625 \nL 38.28125 72.90625 \nL 38.28125 8.296875 \nL 54.390625 8.296875 \nL 54.390625 0 \nL 12.40625 0 \nz\n\" id=\"DejaVuSans-49\"/>\n      </defs>\n      <g transform=\"translate(7.2 202.600198)scale(0.1 -0.1)\">\n       <use xlink:href=\"#DejaVuSans-49\"/>\n      </g>\n     </g>\n    </g>\n    <g id=\"ytick_3\">\n     <g id=\"line2d_4\">\n      <g>\n       <use style=\"stroke:#000000;stroke-width:0.8;\" x=\"20.5625\" xlink:href=\"#mad4ccaa2ac\" y=\"172.246863\"/>\n      </g>\n     </g>\n     <g id=\"text_4\">\n      <!-- 2 -->\n      <defs>\n       <path d=\"M 19.1875 8.296875 \nL 53.609375 8.296875 \nL 53.609375 0 \nL 7.328125 0 \nL 7.328125 8.296875 \nQ 12.9375 14.109375 22.625 23.890625 \nQ 32.328125 33.6875 34.8125 36.53125 \nQ 39.546875 41.84375 41.421875 45.53125 \nQ 43.3125 49.21875 43.3125 52.78125 \nQ 43.3125 58.59375 39.234375 62.25 \nQ 35.15625 65.921875 28.609375 65.921875 \nQ 23.96875 65.921875 18.8125 64.3125 \nQ 13.671875 62.703125 7.8125 59.421875 \nL 7.8125 69.390625 \nQ 13.765625 71.78125 18.9375 73 \nQ 24.125 74.21875 28.421875 74.21875 \nQ 39.75 74.21875 46.484375 68.546875 \nQ 53.21875 62.890625 53.21875 53.421875 \nQ 53.21875 48.921875 51.53125 44.890625 \nQ 49.859375 40.875 45.40625 35.40625 \nQ 44.1875 33.984375 37.640625 27.21875 \nQ 31.109375 20.453125 19.1875 8.296875 \nz\n\" id=\"DejaVuSans-50\"/>\n      </defs>\n      <g transform=\"translate(7.2 176.046081)scale(0.1 -0.1)\">\n       <use xlink:href=\"#DejaVuSans-50\"/>\n      </g>\n     </g>\n    </g>\n    <g id=\"ytick_4\">\n     <g id=\"line2d_5\">\n      <g>\n       <use style=\"stroke:#000000;stroke-width:0.8;\" x=\"20.5625\" xlink:href=\"#mad4ccaa2ac\" y=\"145.692746\"/>\n      </g>\n     </g>\n     <g id=\"text_5\">\n      <!-- 3 -->\n      <defs>\n       <path d=\"M 40.578125 39.3125 \nQ 47.65625 37.796875 51.625 33 \nQ 55.609375 28.21875 55.609375 21.1875 \nQ 55.609375 10.40625 48.1875 4.484375 \nQ 40.765625 -1.421875 27.09375 -1.421875 \nQ 22.515625 -1.421875 17.65625 -0.515625 \nQ 12.796875 0.390625 7.625 2.203125 \nL 7.625 11.71875 \nQ 11.71875 9.328125 16.59375 8.109375 \nQ 21.484375 6.890625 26.8125 6.890625 \nQ 36.078125 6.890625 40.9375 10.546875 \nQ 45.796875 14.203125 45.796875 21.1875 \nQ 45.796875 27.640625 41.28125 31.265625 \nQ 36.765625 34.90625 28.71875 34.90625 \nL 20.21875 34.90625 \nL 20.21875 43.015625 \nL 29.109375 43.015625 \nQ 36.375 43.015625 40.234375 45.921875 \nQ 44.09375 48.828125 44.09375 54.296875 \nQ 44.09375 59.90625 40.109375 62.90625 \nQ 36.140625 65.921875 28.71875 65.921875 \nQ 24.65625 65.921875 20.015625 65.03125 \nQ 15.375 64.15625 9.8125 62.3125 \nL 9.8125 71.09375 \nQ 15.4375 72.65625 20.34375 73.4375 \nQ 25.25 74.21875 29.59375 74.21875 \nQ 40.828125 74.21875 47.359375 69.109375 \nQ 53.90625 64.015625 53.90625 55.328125 \nQ 53.90625 49.265625 50.4375 45.09375 \nQ 46.96875 40.921875 40.578125 39.3125 \nz\n\" id=\"DejaVuSans-51\"/>\n      </defs>\n      <g transform=\"translate(7.2 149.491965)scale(0.1 -0.1)\">\n       <use xlink:href=\"#DejaVuSans-51\"/>\n      </g>\n     </g>\n    </g>\n    <g id=\"ytick_5\">\n     <g id=\"line2d_6\">\n      <g>\n       <use style=\"stroke:#000000;stroke-width:0.8;\" x=\"20.5625\" xlink:href=\"#mad4ccaa2ac\" y=\"119.13863\"/>\n      </g>\n     </g>\n     <g id=\"text_6\">\n      <!-- 4 -->\n      <defs>\n       <path d=\"M 37.796875 64.3125 \nL 12.890625 25.390625 \nL 37.796875 25.390625 \nz\nM 35.203125 72.90625 \nL 47.609375 72.90625 \nL 47.609375 25.390625 \nL 58.015625 25.390625 \nL 58.015625 17.1875 \nL 47.609375 17.1875 \nL 47.609375 0 \nL 37.796875 0 \nL 37.796875 17.1875 \nL 4.890625 17.1875 \nL 4.890625 26.703125 \nz\n\" id=\"DejaVuSans-52\"/>\n      </defs>\n      <g transform=\"translate(7.2 122.937848)scale(0.1 -0.1)\">\n       <use xlink:href=\"#DejaVuSans-52\"/>\n      </g>\n     </g>\n    </g>\n    <g id=\"ytick_6\">\n     <g id=\"line2d_7\">\n      <g>\n       <use style=\"stroke:#000000;stroke-width:0.8;\" x=\"20.5625\" xlink:href=\"#mad4ccaa2ac\" y=\"92.584513\"/>\n      </g>\n     </g>\n     <g id=\"text_7\">\n      <!-- 5 -->\n      <defs>\n       <path d=\"M 10.796875 72.90625 \nL 49.515625 72.90625 \nL 49.515625 64.59375 \nL 19.828125 64.59375 \nL 19.828125 46.734375 \nQ 21.96875 47.46875 24.109375 47.828125 \nQ 26.265625 48.1875 28.421875 48.1875 \nQ 40.625 48.1875 47.75 41.5 \nQ 54.890625 34.8125 54.890625 23.390625 \nQ 54.890625 11.625 47.5625 5.09375 \nQ 40.234375 -1.421875 26.90625 -1.421875 \nQ 22.3125 -1.421875 17.546875 -0.640625 \nQ 12.796875 0.140625 7.71875 1.703125 \nL 7.71875 11.625 \nQ 12.109375 9.234375 16.796875 8.0625 \nQ 21.484375 6.890625 26.703125 6.890625 \nQ 35.15625 6.890625 40.078125 11.328125 \nQ 45.015625 15.765625 45.015625 23.390625 \nQ 45.015625 31 40.078125 35.4375 \nQ 35.15625 39.890625 26.703125 39.890625 \nQ 22.75 39.890625 18.8125 39.015625 \nQ 14.890625 38.140625 10.796875 36.28125 \nz\n\" id=\"DejaVuSans-53\"/>\n      </defs>\n      <g transform=\"translate(7.2 96.383732)scale(0.1 -0.1)\">\n       <use xlink:href=\"#DejaVuSans-53\"/>\n      </g>\n     </g>\n    </g>\n    <g id=\"ytick_7\">\n     <g id=\"line2d_8\">\n      <g>\n       <use style=\"stroke:#000000;stroke-width:0.8;\" x=\"20.5625\" xlink:href=\"#mad4ccaa2ac\" y=\"66.030397\"/>\n      </g>\n     </g>\n     <g id=\"text_8\">\n      <!-- 6 -->\n      <defs>\n       <path d=\"M 33.015625 40.375 \nQ 26.375 40.375 22.484375 35.828125 \nQ 18.609375 31.296875 18.609375 23.390625 \nQ 18.609375 15.53125 22.484375 10.953125 \nQ 26.375 6.390625 33.015625 6.390625 \nQ 39.65625 6.390625 43.53125 10.953125 \nQ 47.40625 15.53125 47.40625 23.390625 \nQ 47.40625 31.296875 43.53125 35.828125 \nQ 39.65625 40.375 33.015625 40.375 \nz\nM 52.59375 71.296875 \nL 52.59375 62.3125 \nQ 48.875 64.0625 45.09375 64.984375 \nQ 41.3125 65.921875 37.59375 65.921875 \nQ 27.828125 65.921875 22.671875 59.328125 \nQ 17.53125 52.734375 16.796875 39.40625 \nQ 19.671875 43.65625 24.015625 45.921875 \nQ 28.375 48.1875 33.59375 48.1875 \nQ 44.578125 48.1875 50.953125 41.515625 \nQ 57.328125 34.859375 57.328125 23.390625 \nQ 57.328125 12.15625 50.6875 5.359375 \nQ 44.046875 -1.421875 33.015625 -1.421875 \nQ 20.359375 -1.421875 13.671875 8.265625 \nQ 6.984375 17.96875 6.984375 36.375 \nQ 6.984375 53.65625 15.1875 63.9375 \nQ 23.390625 74.21875 37.203125 74.21875 \nQ 40.921875 74.21875 44.703125 73.484375 \nQ 48.484375 72.75 52.59375 71.296875 \nz\n\" id=\"DejaVuSans-54\"/>\n      </defs>\n      <g transform=\"translate(7.2 69.829615)scale(0.1 -0.1)\">\n       <use xlink:href=\"#DejaVuSans-54\"/>\n      </g>\n     </g>\n    </g>\n    <g id=\"ytick_8\">\n     <g id=\"line2d_9\">\n      <g>\n       <use style=\"stroke:#000000;stroke-width:0.8;\" x=\"20.5625\" xlink:href=\"#mad4ccaa2ac\" y=\"39.47628\"/>\n      </g>\n     </g>\n     <g id=\"text_9\">\n      <!-- 7 -->\n      <defs>\n       <path d=\"M 8.203125 72.90625 \nL 55.078125 72.90625 \nL 55.078125 68.703125 \nL 28.609375 0 \nL 18.3125 0 \nL 43.21875 64.59375 \nL 8.203125 64.59375 \nz\n\" id=\"DejaVuSans-55\"/>\n      </defs>\n      <g transform=\"translate(7.2 43.275499)scale(0.1 -0.1)\">\n       <use xlink:href=\"#DejaVuSans-55\"/>\n      </g>\n     </g>\n    </g>\n    <g id=\"text_10\">\n     <!-- 1e9 -->\n     <defs>\n      <path d=\"M 56.203125 29.59375 \nL 56.203125 25.203125 \nL 14.890625 25.203125 \nQ 15.484375 15.921875 20.484375 11.0625 \nQ 25.484375 6.203125 34.421875 6.203125 \nQ 39.59375 6.203125 44.453125 7.46875 \nQ 49.3125 8.734375 54.109375 11.28125 \nL 54.109375 2.78125 \nQ 49.265625 0.734375 44.1875 -0.34375 \nQ 39.109375 -1.421875 33.890625 -1.421875 \nQ 20.796875 -1.421875 13.15625 6.1875 \nQ 5.515625 13.8125 5.515625 26.8125 \nQ 5.515625 40.234375 12.765625 48.109375 \nQ 20.015625 56 32.328125 56 \nQ 43.359375 56 49.78125 48.890625 \nQ 56.203125 41.796875 56.203125 29.59375 \nz\nM 47.21875 32.234375 \nQ 47.125 39.59375 43.09375 43.984375 \nQ 39.0625 48.390625 32.421875 48.390625 \nQ 24.90625 48.390625 20.390625 44.140625 \nQ 15.875 39.890625 15.1875 32.171875 \nz\n\" id=\"DejaVuSans-101\"/>\n      <path d=\"M 10.984375 1.515625 \nL 10.984375 10.5 \nQ 14.703125 8.734375 18.5 7.8125 \nQ 22.3125 6.890625 25.984375 6.890625 \nQ 35.75 6.890625 40.890625 13.453125 \nQ 46.046875 20.015625 46.78125 33.40625 \nQ 43.953125 29.203125 39.59375 26.953125 \nQ 35.25 24.703125 29.984375 24.703125 \nQ 19.046875 24.703125 12.671875 31.3125 \nQ 6.296875 37.9375 6.296875 49.421875 \nQ 6.296875 60.640625 12.9375 67.421875 \nQ 19.578125 74.21875 30.609375 74.21875 \nQ 43.265625 74.21875 49.921875 64.515625 \nQ 56.59375 54.828125 56.59375 36.375 \nQ 56.59375 19.140625 48.40625 8.859375 \nQ 40.234375 -1.421875 26.421875 -1.421875 \nQ 22.703125 -1.421875 18.890625 -0.6875 \nQ 15.09375 0.046875 10.984375 1.515625 \nz\nM 30.609375 32.421875 \nQ 37.25 32.421875 41.125 36.953125 \nQ 45.015625 41.5 45.015625 49.421875 \nQ 45.015625 57.28125 41.125 61.84375 \nQ 37.25 66.40625 30.609375 66.40625 \nQ 23.96875 66.40625 20.09375 61.84375 \nQ 16.21875 57.28125 16.21875 49.421875 \nQ 16.21875 41.5 20.09375 36.953125 \nQ 23.96875 32.421875 30.609375 32.421875 \nz\n\" id=\"DejaVuSans-57\"/>\n     </defs>\n     <g transform=\"translate(20.5625 14.798437)scale(0.1 -0.1)\">\n      <use xlink:href=\"#DejaVuSans-49\"/>\n      <use x=\"63.623047\" xlink:href=\"#DejaVuSans-101\"/>\n      <use x=\"125.146484\" xlink:href=\"#DejaVuSans-57\"/>\n     </g>\n    </g>\n   </g>\n   <g id=\"line2d_10\">\n    <path clip-path=\"url(#p869e208dc0)\" d=\"M 162.8525 225.309474 \nL 213.0725 225.309474 \nL 213.0725 223.876482 \nL 162.8525 223.876482 \nL 162.8525 225.309474 \n\" style=\"fill:none;stroke:#1f77b4;stroke-linecap:square;\"/>\n   </g>\n   <g id=\"line2d_11\">\n    <path clip-path=\"url(#p869e208dc0)\" d=\"M 187.9625 225.309474 \nL 187.9625 225.354801 \n\" style=\"fill:none;stroke:#1f77b4;stroke-linecap:square;\"/>\n   </g>\n   <g id=\"line2d_12\">\n    <path clip-path=\"url(#p869e208dc0)\" d=\"M 187.9625 223.876482 \nL 187.9625 221.968373 \n\" style=\"fill:none;stroke:#1f77b4;stroke-linecap:square;\"/>\n   </g>\n   <g id=\"line2d_13\">\n    <path clip-path=\"url(#p869e208dc0)\" d=\"M 175.4075 225.354801 \nL 200.5175 225.354801 \n\" style=\"fill:none;stroke:#000000;stroke-linecap:square;\"/>\n   </g>\n   <g id=\"line2d_14\">\n    <path clip-path=\"url(#p869e208dc0)\" d=\"M 175.4075 221.968373 \nL 200.5175 221.968373 \n\" style=\"fill:none;stroke:#000000;stroke-linecap:square;\"/>\n   </g>\n   <g id=\"line2d_15\">\n    <defs>\n     <path d=\"M 0 3 \nC 0.795609 3 1.55874 2.683901 2.12132 2.12132 \nC 2.683901 1.55874 3 0.795609 3 0 \nC 3 -0.795609 2.683901 -1.55874 2.12132 -2.12132 \nC 1.55874 -2.683901 0.795609 -3 0 -3 \nC -0.795609 -3 -1.55874 -2.683901 -2.12132 -2.12132 \nC -2.683901 -1.55874 -3 -0.795609 -3 0 \nC -3 0.795609 -2.683901 1.55874 -2.12132 2.12132 \nC -1.55874 2.683901 -0.795609 3 0 3 \nz\n\" id=\"m6fdf2d7376\" style=\"stroke:#000000;\"/>\n    </defs>\n    <g clip-path=\"url(#p869e208dc0)\">\n     <use style=\"fill-opacity:0;stroke:#000000;\" x=\"187.9625\" xlink:href=\"#m6fdf2d7376\" y=\"214.562104\"/>\n     <use style=\"fill-opacity:0;stroke:#000000;\" x=\"187.9625\" xlink:href=\"#m6fdf2d7376\" y=\"221.028061\"/>\n     <use style=\"fill-opacity:0;stroke:#000000;\" x=\"187.9625\" xlink:href=\"#m6fdf2d7376\" y=\"219.841057\"/>\n     <use style=\"fill-opacity:0;stroke:#000000;\" x=\"187.9625\" xlink:href=\"#m6fdf2d7376\" y=\"188.745865\"/>\n     <use style=\"fill-opacity:0;stroke:#000000;\" x=\"187.9625\" xlink:href=\"#m6fdf2d7376\" y=\"170.831552\"/>\n     <use style=\"fill-opacity:0;stroke:#000000;\" x=\"187.9625\" xlink:href=\"#m6fdf2d7376\" y=\"141.161083\"/>\n     <use style=\"fill-opacity:0;stroke:#000000;\" x=\"187.9625\" xlink:href=\"#m6fdf2d7376\" y=\"164.314437\"/>\n     <use style=\"fill-opacity:0;stroke:#000000;\" x=\"187.9625\" xlink:href=\"#m6fdf2d7376\" y=\"214.382007\"/>\n     <use style=\"fill-opacity:0;stroke:#000000;\" x=\"187.9625\" xlink:href=\"#m6fdf2d7376\" y=\"201.146071\"/>\n     <use style=\"fill-opacity:0;stroke:#000000;\" x=\"187.9625\" xlink:href=\"#m6fdf2d7376\" y=\"216.310303\"/>\n     <use style=\"fill-opacity:0;stroke:#000000;\" x=\"187.9625\" xlink:href=\"#m6fdf2d7376\" y=\"211.780128\"/>\n     <use style=\"fill-opacity:0;stroke:#000000;\" x=\"187.9625\" xlink:href=\"#m6fdf2d7376\" y=\"212.09109\"/>\n     <use style=\"fill-opacity:0;stroke:#000000;\" x=\"187.9625\" xlink:href=\"#m6fdf2d7376\" y=\"192.371229\"/>\n     <use style=\"fill-opacity:0;stroke:#000000;\" x=\"187.9625\" xlink:href=\"#m6fdf2d7376\" y=\"205.582822\"/>\n     <use style=\"fill-opacity:0;stroke:#000000;\" x=\"187.9625\" xlink:href=\"#m6fdf2d7376\" y=\"100.571143\"/>\n     <use style=\"fill-opacity:0;stroke:#000000;\" x=\"187.9625\" xlink:href=\"#m6fdf2d7376\" y=\"58.765598\"/>\n     <use style=\"fill-opacity:0;stroke:#000000;\" x=\"187.9625\" xlink:href=\"#m6fdf2d7376\" y=\"183.549551\"/>\n     <use style=\"fill-opacity:0;stroke:#000000;\" x=\"187.9625\" xlink:href=\"#m6fdf2d7376\" y=\"211.516178\"/>\n     <use style=\"fill-opacity:0;stroke:#000000;\" x=\"187.9625\" xlink:href=\"#m6fdf2d7376\" y=\"218.421406\"/>\n     <use style=\"fill-opacity:0;stroke:#000000;\" x=\"187.9625\" xlink:href=\"#m6fdf2d7376\" y=\"197.388469\"/>\n     <use style=\"fill-opacity:0;stroke:#000000;\" x=\"187.9625\" xlink:href=\"#m6fdf2d7376\" y=\"190.192895\"/>\n     <use style=\"fill-opacity:0;stroke:#000000;\" x=\"187.9625\" xlink:href=\"#m6fdf2d7376\" y=\"210.424915\"/>\n     <use style=\"fill-opacity:0;stroke:#000000;\" x=\"187.9625\" xlink:href=\"#m6fdf2d7376\" y=\"208.422495\"/>\n     <use style=\"fill-opacity:0;stroke:#000000;\" x=\"187.9625\" xlink:href=\"#m6fdf2d7376\" y=\"199.348315\"/>\n     <use style=\"fill-opacity:0;stroke:#000000;\" x=\"187.9625\" xlink:href=\"#m6fdf2d7376\" y=\"206.394865\"/>\n     <use style=\"fill-opacity:0;stroke:#000000;\" x=\"187.9625\" xlink:href=\"#m6fdf2d7376\" y=\"147.522975\"/>\n     <use style=\"fill-opacity:0;stroke:#000000;\" x=\"187.9625\" xlink:href=\"#m6fdf2d7376\" y=\"60.665941\"/>\n     <use style=\"fill-opacity:0;stroke:#000000;\" x=\"187.9625\" xlink:href=\"#m6fdf2d7376\" y=\"165.221467\"/>\n     <use style=\"fill-opacity:0;stroke:#000000;\" x=\"187.9625\" xlink:href=\"#m6fdf2d7376\" y=\"213.757903\"/>\n     <use style=\"fill-opacity:0;stroke:#000000;\" x=\"187.9625\" xlink:href=\"#m6fdf2d7376\" y=\"79.626172\"/>\n     <use style=\"fill-opacity:0;stroke:#000000;\" x=\"187.9625\" xlink:href=\"#m6fdf2d7376\" y=\"215.431316\"/>\n     <use style=\"fill-opacity:0;stroke:#000000;\" x=\"187.9625\" xlink:href=\"#m6fdf2d7376\" y=\"215.802627\"/>\n     <use style=\"fill-opacity:0;stroke:#000000;\" x=\"187.9625\" xlink:href=\"#m6fdf2d7376\" y=\"220.416305\"/>\n     <use style=\"fill-opacity:0;stroke:#000000;\" x=\"187.9625\" xlink:href=\"#m6fdf2d7376\" y=\"191.10062\"/>\n     <use style=\"fill-opacity:0;stroke:#000000;\" x=\"187.9625\" xlink:href=\"#m6fdf2d7376\" y=\"220.224748\"/>\n     <use style=\"fill-opacity:0;stroke:#000000;\" x=\"187.9625\" xlink:href=\"#m6fdf2d7376\" y=\"202.006262\"/>\n     <use style=\"fill-opacity:0;stroke:#000000;\" x=\"187.9625\" xlink:href=\"#m6fdf2d7376\" y=\"196.071785\"/>\n     <use style=\"fill-opacity:0;stroke:#000000;\" x=\"187.9625\" xlink:href=\"#m6fdf2d7376\" y=\"221.522211\"/>\n     <use style=\"fill-opacity:0;stroke:#000000;\" x=\"187.9625\" xlink:href=\"#m6fdf2d7376\" y=\"178.450071\"/>\n     <use style=\"fill-opacity:0;stroke:#000000;\" x=\"187.9625\" xlink:href=\"#m6fdf2d7376\" y=\"197.921558\"/>\n     <use style=\"fill-opacity:0;stroke:#000000;\" x=\"187.9625\" xlink:href=\"#m6fdf2d7376\" y=\"197.919044\"/>\n     <use style=\"fill-opacity:0;stroke:#000000;\" x=\"187.9625\" xlink:href=\"#m6fdf2d7376\" y=\"171.506098\"/>\n     <use style=\"fill-opacity:0;stroke:#000000;\" x=\"187.9625\" xlink:href=\"#m6fdf2d7376\" y=\"213.262899\"/>\n     <use style=\"fill-opacity:0;stroke:#000000;\" x=\"187.9625\" xlink:href=\"#m6fdf2d7376\" y=\"208.850785\"/>\n     <use style=\"fill-opacity:0;stroke:#000000;\" x=\"187.9625\" xlink:href=\"#m6fdf2d7376\" y=\"215.552179\"/>\n     <use style=\"fill-opacity:0;stroke:#000000;\" x=\"187.9625\" xlink:href=\"#m6fdf2d7376\" y=\"178.450071\"/>\n     <use style=\"fill-opacity:0;stroke:#000000;\" x=\"187.9625\" xlink:href=\"#m6fdf2d7376\" y=\"197.919044\"/>\n     <use style=\"fill-opacity:0;stroke:#000000;\" x=\"187.9625\" xlink:href=\"#m6fdf2d7376\" y=\"157.458293\"/>\n     <use style=\"fill-opacity:0;stroke:#000000;\" x=\"187.9625\" xlink:href=\"#m6fdf2d7376\" y=\"216.767337\"/>\n     <use style=\"fill-opacity:0;stroke:#000000;\" x=\"187.9625\" xlink:href=\"#m6fdf2d7376\" y=\"27.682074\"/>\n    </g>\n   </g>\n   <g id=\"line2d_16\">\n    <path clip-path=\"url(#p869e208dc0)\" d=\"M 162.8525 225.093045 \nL 213.0725 225.093045 \n\" style=\"fill:none;stroke:#2ca02c;stroke-linecap:square;\"/>\n   </g>\n   <g id=\"patch_3\">\n    <path d=\"M 20.5625 235.238438 \nL 20.5625 17.798438 \n\" style=\"fill:none;stroke:#000000;stroke-linecap:square;stroke-linejoin:miter;stroke-width:0.8;\"/>\n   </g>\n   <g id=\"patch_4\">\n    <path d=\"M 355.3625 235.238438 \nL 355.3625 17.798438 \n\" style=\"fill:none;stroke:#000000;stroke-linecap:square;stroke-linejoin:miter;stroke-width:0.8;\"/>\n   </g>\n   <g id=\"patch_5\">\n    <path d=\"M 20.5625 235.238437 \nL 355.3625 235.238437 \n\" style=\"fill:none;stroke:#000000;stroke-linecap:square;stroke-linejoin:miter;stroke-width:0.8;\"/>\n   </g>\n   <g id=\"patch_6\">\n    <path d=\"M 20.5625 17.798437 \nL 355.3625 17.798437 \n\" style=\"fill:none;stroke:#000000;stroke-linecap:square;stroke-linejoin:miter;stroke-width:0.8;\"/>\n   </g>\n  </g>\n </g>\n <defs>\n  <clipPath id=\"p869e208dc0\">\n   <rect height=\"217.44\" width=\"334.8\" x=\"20.5625\" y=\"17.798437\"/>\n  </clipPath>\n </defs>\n</svg>\n",
      "image/png": "[encoded data removed]"
     },
     "metadata": {
      "needs_background": "light"
     }
    }
   ],
   "source": [
    "import matplotlib.pyplot as plt\n",
    "%matplotlib inline \n",
    "\n",
    "# TODO: Make a boxplot of the population data for the year 2016\n",
    "df_2016.plot('population', kind='box')\n",
    "\n",
    "# TODO: Make a boxplot of the gdp data for the year 2016\n",
    "df_2016.plot('gdp', kind='box')"
   ]
  },
  {
   "cell_type": "markdown",
   "metadata": {},
   "source": [
    "Use the Tukey rule to determine what values of the population data are outliers for the year 2016. The Tukey rule finds outliers in one-dimension. The steps are:\n",
    "\n",
    "* Find the first quartile (ie .25 quantile)\n",
    "* Find the third quartile (ie .75 quantile)\n",
    "* Calculate the inter-quartile range (Q3 - Q1)\n",
    "* Any value that is greater than Q3 + 1.5 * IQR is an outlier\n",
    "* Any value that is less than Qe - 1.5 * IQR is an outlier"
   ]
  },
  {
   "cell_type": "code",
   "execution_count": 5,
   "metadata": {},
   "outputs": [],
   "source": [
    "# TODO: Filter the data for the year 2016 and put the results in the population_2016 variable. You only need\n",
    "# to keep the Country Name and population columns\n",
    "population_2016 = df_2016[['Country Name','population']]\n",
    "\n",
    "# TODO: Calculate the first quartile of the population values\n",
    "# HINT: you can use the pandas quantile method \n",
    "Q1 = population_2016['population'].quantile(0.25)\n",
    "\n",
    "# TODO: Calculate the third quartile of the population values\n",
    "Q3 = population_2016['population'].quantile(0.75)\n",
    "\n",
    "# TODP: Calculate the interquartile range Q3 - Q1\n",
    "IQR = Q3 - Q1\n",
    "\n",
    "# TODO: filter the population_2016 data for population values that are greater than max_value or less than min_value\n",
    "population_outliers = None\n",
    "population_outliers"
   ]
  },
  {
   "cell_type": "markdown",
   "metadata": {},
   "source": [
    "Many of these aren't countries at all but rather aggregates of various countries. Notice as well that the min_value calculated above was negative. According to the Tukey rule, there are no minimum population outliers in this data set. If you were going to study how population and gdp correlate, you might want to remove these aggregated regions from the data set.\n",
    "\n",
    "Next, use the Tukey method to do the same analysis for gdp."
   ]
  },
  {
   "cell_type": "code",
   "execution_count": null,
   "metadata": {},
   "outputs": [],
   "source": [
    "# TODO: Calculate the first quartile of the population values for 2016\n",
    "# HINT: you can use the pandas quantile method \n",
    "Q1 = None\n",
    "\n",
    "# TODO: Calculate the third quartile of the population values for 2016\n",
    "Q3 = None\n",
    "\n",
    "# TODP: Calculate the interquartile range Q3 - Q1\n",
    "IQR = None\n",
    "\n",
    "# TODO: Calculate the maximum value and minimum values according to the Tukey rule\n",
    "# max_value is Q3 + 1.5 * IQR while min_value is Q1 - 1.5 * IQR\n",
    "max_value = None\n",
    "min_value = None\n",
    "\n",
    "# TODO: filter the population_2016 data for population values that are greater than max_value or less than min_value\n",
    "gdp_outliers = None\n",
    "gdp_outliers"
   ]
  },
  {
   "cell_type": "markdown",
   "metadata": {},
   "source": [
    "Clearly many of these outliers are due to regional data getting aggregated together. \n",
    "\n",
    "Remove these data points and redo the analysis. There's a list provided below of the 'Country Name' values that are not actually countries."
   ]
  },
  {
   "cell_type": "code",
   "execution_count": null,
   "metadata": {},
   "outputs": [],
   "source": [
    "# TODO: remove the rows from the data that have Country Name values in the non_countries list\n",
    "# Store the filter results back into the df_2016 variable\n",
    "\n",
    "non_countries = ['World',\n",
    " 'High income',\n",
    " 'OECD members',\n",
    " 'Post-demographic dividend',\n",
    " 'IDA & IBRD total',\n",
    " 'Low & middle income',\n",
    " 'Middle income',\n",
    " 'IBRD only',\n",
    " 'East Asia & Pacific',\n",
    " 'Europe & Central Asia',\n",
    " 'North America',\n",
    " 'Upper middle income',\n",
    " 'Late-demographic dividend',\n",
    " 'European Union',\n",
    " 'East Asia & Pacific (excluding high income)',\n",
    " 'East Asia & Pacific (IDA & IBRD countries)',\n",
    " 'Euro area',\n",
    " 'Early-demographic dividend',\n",
    " 'Lower middle income',\n",
    " 'Latin America & Caribbean',\n",
    " 'Latin America & the Caribbean (IDA & IBRD countries)',\n",
    " 'Latin America & Caribbean (excluding high income)',\n",
    " 'Europe & Central Asia (IDA & IBRD countries)',\n",
    " 'Middle East & North Africa',\n",
    " 'Europe & Central Asia (excluding high income)',\n",
    " 'South Asia (IDA & IBRD)',\n",
    " 'South Asia',\n",
    " 'Arab World',\n",
    " 'IDA total',\n",
    " 'Sub-Saharan Africa',\n",
    " 'Sub-Saharan Africa (IDA & IBRD countries)',\n",
    " 'Sub-Saharan Africa (excluding high income)',\n",
    " 'Middle East & North Africa (excluding high income)',\n",
    " 'Middle East & North Africa (IDA & IBRD countries)',\n",
    " 'Central Europe and the Baltics',\n",
    " 'Pre-demographic dividend',\n",
    " 'IDA only',\n",
    " 'Least developed countries: UN classification',\n",
    " 'IDA blend',\n",
    " 'Fragile and conflict affected situations',\n",
    " 'Heavily indebted poor countries (HIPC)',\n",
    " 'Low income',\n",
    " 'Small states',\n",
    " 'Other small states',\n",
    " 'Not classified',\n",
    " 'Caribbean small states',\n",
    " 'Pacific island small states']\n"
   ]
  },
  {
   "cell_type": "code",
   "execution_count": null,
   "metadata": {},
   "outputs": [],
   "source": [
    "# TODO: Re-rerun the Tukey code with this filtered data to find population outliers\n",
    "\n",
    "population_outliers = None\n",
    "population_outliers"
   ]
  },
  {
   "cell_type": "code",
   "execution_count": null,
   "metadata": {},
   "outputs": [],
   "source": [
    "# TODO: Re-rerun the Tukey code with this filtered data to find gdp outliers in 2016\n",
    "\n",
    "gdp_outliers = None\n",
    "gdp_outliers"
   ]
  },
  {
   "cell_type": "markdown",
   "metadata": {},
   "source": [
    "Next, write code to determine which countries are in the population_outliers array and in the gdp_outliers array. "
   ]
  },
  {
   "cell_type": "code",
   "execution_count": null,
   "metadata": {},
   "outputs": [],
   "source": [
    "# TODO: Find country names that are in both the population_outliers and the gdp_outliers \n",
    "# HINT: you can use the pandas intersection() method and python set() and list() methods\n"
   ]
  },
  {
   "cell_type": "markdown",
   "metadata": {},
   "source": [
    "These countries have both relatively high populations and high GDPs. That might be an indication that although these countries have high values for both gdp and population, they're not true outliers when looking at these values from a two-dimensional perspective.\n",
    "\n",
    "Now write code to find countries in population_outliers but not in the gdp_outliers. "
   ]
  },
  {
   "cell_type": "code",
   "execution_count": null,
   "metadata": {},
   "outputs": [],
   "source": [
    "# TODO: Find country names that are in the population outliers list but not the gdp outliers list\n",
    "# HINT: Python's set() and list() methods should be helpful\n"
   ]
  },
  {
   "cell_type": "markdown",
   "metadata": {},
   "source": [
    "These countries are population outliers but not GDP outliers. If looking at outliers from a two-dimensional perspective, there's some indication that these countries might be outliers.\n",
    "\n",
    "And finally, write code to find countries that are in the gdp_outliers array but not the population_outliers array."
   ]
  },
  {
   "cell_type": "code",
   "execution_count": null,
   "metadata": {},
   "outputs": [],
   "source": [
    "# TODO: Find country names that are in the gdp outliers list but not the population outliers list\n",
    "# HINT: Python's set() and list() methods should be helpful\n"
   ]
  },
  {
   "cell_type": "markdown",
   "metadata": {},
   "source": [
    "On the other hand, these countries have high GDP but are not population outliers.\n",
    "\n",
    "\n",
    "# Demo: 2-Dimensional Analysis\n",
    "\n",
    "Next, look at the data from a two-dimensional perspective. You don't have to do anything in this section other than run the code cells below. This gives a basic example of how outlier removal affects machine learning algorithms.\n",
    "\n",
    "The next code cell plots the GDP vs Population data including the country name of each point."
   ]
  },
  {
   "cell_type": "code",
   "execution_count": null,
   "metadata": {},
   "outputs": [],
   "source": [
    "# run the code cell below\n",
    "x = list(df_2016['population'])\n",
    "y = list(df_2016['gdp'])\n",
    "text = df_2016['Country Name']\n",
    "\n",
    "fig, ax = plt.subplots(figsize=(15,10))\n",
    "ax.scatter(x, y)\n",
    "plt.title('GDP vs Population')\n",
    "plt.xlabel('population')\n",
    "plt.ylabel('GDP')\n",
    "for i, txt in enumerate(text):\n",
    "    ax.annotate(txt, (x[i],y[i]))"
   ]
  },
  {
   "cell_type": "markdown",
   "metadata": {},
   "source": [
    "The United States, China, and India have such larger values that it's hard to see this data. Let's take those countries out for a moment and look at the data again."
   ]
  },
  {
   "cell_type": "code",
   "execution_count": null,
   "metadata": {},
   "outputs": [],
   "source": [
    "# Run the code below to see the results \n",
    "df_no_large = (df_2016['Country Name'] != 'United States') & (df_2016['Country Name'] != 'India') & (df_2016['Country Name'] != 'China')\n",
    "x = list(df_2016[df_no_large]['population'])\n",
    "y = list(df_2016[df_no_large]['gdp'])\n",
    "text = df_2016[df_no_large]['Country Name']\n",
    "\n",
    "fig, ax = plt.subplots(figsize=(15,10))\n",
    "ax.scatter(x, y)\n",
    "plt.title('GDP vs Population')\n",
    "plt.xlabel('population')\n",
    "plt.ylabel('GDP')\n",
    "for i, txt in enumerate(text):\n",
    "    ax.annotate(txt, (x[i],y[i]))"
   ]
  },
  {
   "cell_type": "markdown",
   "metadata": {},
   "source": [
    "Run the code below to build a simple linear regression model with the population and gdp data for 2016."
   ]
  },
  {
   "cell_type": "code",
   "execution_count": null,
   "metadata": {},
   "outputs": [],
   "source": [
    "from sklearn.linear_model import LinearRegression\n",
    "\n",
    "# fit a linear regression model on the population and gdp data\n",
    "model = LinearRegression()\n",
    "model.fit(df_2016['population'].values.reshape(-1, 1), df_2016['gdp'].values.reshape(-1, 1))\n",
    "\n",
    "# plot the data along with predictions from the linear regression model\n",
    "inputs = np.linspace(1, 2000000000, num=50)\n",
    "predictions = model.predict(inputs.reshape(-1,1))\n",
    "\n",
    "df_2016.plot('population', 'gdp', kind='scatter')\n",
    "plt.plot(inputs, predictions)\n",
    "print(model.predict(1000000000))"
   ]
  },
  {
   "cell_type": "markdown",
   "metadata": {},
   "source": [
    "Notice that the code ouputs a GDP value of 6.54e+12 when population equals 1e9. Now run the code below when the United States is taken out of the data set."
   ]
  },
  {
   "cell_type": "code",
   "execution_count": null,
   "metadata": {},
   "outputs": [],
   "source": [
    "# Remove the United States to see what happens with the linear regression model\n",
    "df_2016[df_2016['Country Name'] != 'United States'].plot('population', 'gdp', kind='scatter')\n",
    "# plt.plot(inputs, predictions)\n",
    "model.fit(df_2016[df_2016['Country Name'] != 'United States']['population'].values.reshape(-1, 1), \n",
    "          df_2016[df_2016['Country Name'] != 'United States']['gdp'].values.reshape(-1, 1))\n",
    "inputs = np.linspace(1, 2000000000, num=50)\n",
    "predictions = model.predict(inputs.reshape(-1,1))\n",
    "plt.plot(inputs, predictions)\n",
    "print(model.predict(1000000000))"
   ]
  },
  {
   "cell_type": "markdown",
   "metadata": {},
   "source": [
    "Notice that the code now ouputs a GDP value of 5.26e+12 when population equals 1e9. In other words, removing the United States shifted the linear regression line down.\n",
    "\n",
    "# Conclusion\n",
    "\n",
    "Data scientists sometimes have the task of creating an outlier removal model. In this exercise, you've used the Tukey rule. There are other one-dimensional models like eliminating data that is far from the mean. There are also more sophisticated models that take into account multi-dimensional data.\n",
    "\n",
    "Remember, however, that this is a course on data engineering. As a data engineer, your job will be to remove outliers using code based on whatever model you're given.\n",
    "\n",
    "If you were using the Tukey rule, for example, you'd calculate Q1, Q3, and IQR on your training data. You'd need to store these results. Then as new data comes in, you'd use these stored values to eliminate any outliers."
   ]
  }
 ],
 "metadata": {
  "kernelspec": {
   "display_name": "Python 3",
   "language": "python",
   "name": "python3"
  },
  "language_info": {
   "codemirror_mode": {
    "name": "ipython",
    "version": 3
   },
   "file_extension": ".py",
   "mimetype": "text/x-python",
   "name": "python",
   "nbconvert_exporter": "python",
   "pygments_lexer": "ipython3",
   "version": "3.8.3-final"
  }
 },
 "nbformat": 4,
 "nbformat_minor": 2
}